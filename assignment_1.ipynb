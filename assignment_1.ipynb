{
  "nbformat": 4,
  "nbformat_minor": 0,
  "metadata": {
    "colab": {
      "provenance": [],
      "include_colab_link": true
    },
    "kernelspec": {
      "name": "python3",
      "display_name": "Python 3"
    },
    "language_info": {
      "name": "python"
    }
  },
  "cells": [
    {
      "cell_type": "markdown",
      "metadata": {
        "id": "view-in-github",
        "colab_type": "text"
      },
      "source": [
        "<a href=\"https://colab.research.google.com/github/harshith2808/aiml_batch5/blob/main/assignment_1.ipynb\" target=\"_parent\"><img src=\"https://colab.research.google.com/assets/colab-badge.svg\" alt=\"Open In Colab\"/></a>"
      ]
    },
    {
      "cell_type": "markdown",
      "source": [
        "**PART  1**"
      ],
      "metadata": {
        "id": "hEfw2GhtegPB"
      }
    },
    {
      "cell_type": "code",
      "execution_count": null,
      "metadata": {
        "colab": {
          "base_uri": "https://localhost:8080/"
        },
        "id": "QY77e_mKU1Jn",
        "outputId": "90352b7a-110c-450c-f49d-15be1f54fee2"
      },
      "outputs": [
        {
          "output_type": "stream",
          "name": "stdout",
          "text": [
            "[3, 4, 5]\n",
            "['hello', 'morning']\n",
            "['@', 7, 'bin']\n",
            "<class 'list'>\n"
          ]
        }
      ],
      "source": [
        "import numpy as np\n",
        "num=[3,4,5]\n",
        "cha=['hello','morning']\n",
        "lis=['@',7,'bin']\n",
        "print(num)\n",
        "print(cha)\n",
        "print(lis)\n",
        "print(type(lis))\n"
      ]
    },
    {
      "cell_type": "markdown",
      "source": [
        "1).list"
      ],
      "metadata": {
        "id": "-DuCT_g4aP8B"
      }
    },
    {
      "cell_type": "markdown",
      "source": [
        "2).arrays"
      ],
      "metadata": {
        "id": "l0RwHbI1aTGu"
      }
    },
    {
      "cell_type": "code",
      "source": [
        "import numpy as np\n",
        "arr = np.array([1, 2, 3, 4, 5])\n",
        "print(arr)\n",
        "print(type(arr))\n"
      ],
      "metadata": {
        "colab": {
          "base_uri": "https://localhost:8080/"
        },
        "id": "y9vWSAxgZMoW",
        "outputId": "ee947a5f-331e-4dc9-a490-77db28b9b075"
      },
      "execution_count": null,
      "outputs": [
        {
          "output_type": "stream",
          "name": "stdout",
          "text": [
            "[1 2 3 4 5]\n",
            "<class 'numpy.ndarray'>\n"
          ]
        }
      ]
    },
    {
      "cell_type": "markdown",
      "source": [
        " 3). Identify their type using type()"
      ],
      "metadata": {
        "id": "3JtPznr_bdCb"
      }
    },
    {
      "cell_type": "code",
      "source": [
        "print(\"Type of list:\", type(lis))\n",
        "\n",
        "print(\"Type of array:\", type(arr))\n"
      ],
      "metadata": {
        "colab": {
          "base_uri": "https://localhost:8080/"
        },
        "id": "zOd0Stembb4u",
        "outputId": "100bfa99-4455-43c7-f36f-d6aedf02eea4"
      },
      "execution_count": null,
      "outputs": [
        {
          "output_type": "stream",
          "name": "stdout",
          "text": [
            "Type of list: <class 'list'>\n",
            "Type of array: <class 'numpy.ndarray'>\n"
          ]
        }
      ]
    },
    {
      "cell_type": "markdown",
      "source": [
        "4). multiplication, division,powerof\n",
        "\n",
        "\n"
      ],
      "metadata": {
        "id": "wBWgl9g2ae43"
      }
    },
    {
      "cell_type": "code",
      "source": [
        "\n",
        "doubled_array = arr * 2\n",
        "print(\"Doubled array:\", doubled_array)\n",
        "\n",
        "halved_array = arr / 2\n",
        "print(\"Halved array:\", halved_array)\n",
        "\n",
        "squared_array = arr ** 2\n",
        "print(\"Squared array:\", squared_array)"
      ],
      "metadata": {
        "colab": {
          "base_uri": "https://localhost:8080/"
        },
        "id": "H62dbSt6ad8e",
        "outputId": "c7ef48f3-1ae5-44b7-c53b-c3e25fe811af"
      },
      "execution_count": null,
      "outputs": [
        {
          "output_type": "stream",
          "name": "stdout",
          "text": [
            "Doubled array: [ 2  4  6  8 10]\n",
            "Halved array: [0.5 1.  1.5 2.  2.5]\n",
            "Squared array: [ 1  4  9 16 25]\n"
          ]
        }
      ]
    },
    {
      "cell_type": "markdown",
      "source": [
        "5. Combine text with Numpy function to generate a textual output - “Addition of Two: array1 +array 2”:"
      ],
      "metadata": {
        "id": "nghmzSyqcmKZ"
      }
    },
    {
      "cell_type": "code",
      "source": [
        "array1 = np.array([1, 2, 3])\n",
        "array2 = np.array([4, 5, 6])\n",
        "\n",
        "sum_array = array1 + array2\n",
        "\n",
        "textual_output = f\"Addition of Two:\\narray1 + array2\\n{sum_array}\"\n",
        "\n",
        "print(textual_output)"
      ],
      "metadata": {
        "colab": {
          "base_uri": "https://localhost:8080/"
        },
        "id": "RPyfvJoxcl1y",
        "outputId": "19525bd0-0266-4be9-f63f-a34cb2068e8c"
      },
      "execution_count": null,
      "outputs": [
        {
          "output_type": "stream",
          "name": "stdout",
          "text": [
            "Addition of Two:\n",
            "array1 + array2\n",
            "[5 7 9]\n"
          ]
        }
      ]
    },
    {
      "cell_type": "markdown",
      "source": [
        "6. Implement np.sin(), log(), log2(), np.exp():"
      ],
      "metadata": {
        "id": "8XNTQa9ec-FO"
      }
    },
    {
      "cell_type": "code",
      "source": [
        "arr = np.array([2, np.pi/2, np.pi])\n",
        "\n",
        "sin_array = np.sin(arr)\n",
        "print(\"Sine of the array:\", sin_array)\n",
        "\n",
        "log_array = np.log(arr)\n",
        "print(\"Natural logarithm of the array:\", log_array)\n",
        "\n",
        "log2_array = np.log2(arr)\n",
        "print(\"Base-2 logarithm of the array:\", log2_array)\n",
        "\n",
        "exp_array = np.exp(arr)\n",
        "print(\"Exponential of the array:\", exp_array)"
      ],
      "metadata": {
        "colab": {
          "base_uri": "https://localhost:8080/"
        },
        "id": "3a4EPSe1c9sa",
        "outputId": "967ea816-ccc3-4878-fa99-768b9fe0fd3a"
      },
      "execution_count": null,
      "outputs": [
        {
          "output_type": "stream",
          "name": "stdout",
          "text": [
            "Sine of the array: [9.09297427e-01 1.00000000e+00 1.22464680e-16]\n",
            "Natural logarithm of the array: [0.69314718 0.45158271 1.14472989]\n",
            "Base-2 logarithm of the array: [1.         0.65149613 1.65149613]\n",
            "Exponential of the array: [ 7.3890561   4.81047738 23.14069263]\n"
          ]
        }
      ]
    },
    {
      "cell_type": "markdown",
      "source": [
        "**PART** 2"
      ],
      "metadata": {
        "id": "WKq6_nnneTvW"
      }
    },
    {
      "cell_type": "code",
      "source": [
        "import random\n",
        "import matplotlib.pyplot as plt\n",
        "\n",
        "people = ['kiran', 'arun', 'vijay', 'varun']\n",
        "ages = [25, 30, 35, 40, 45]\n",
        "heights = [145, 151, 165, 173]\n",
        "weights = [45, 55, 65, 75]\n",
        "\n",
        "# Generate random data for each person\n",
        "data = []\n",
        "for person in people:\n",
        "    age = random.choice(ages)\n",
        "    height = random.choice(heights)\n",
        "    weight = random.choice(weights)\n",
        "    data.append({'Person': person, 'Age': age, 'Height': height, 'Weight': weight})\n",
        "\n",
        "# Extracting data for plotting\n",
        "heights = [entry['Height'] for entry in data]\n",
        "weights = [entry['Weight'] for entry in data]\n",
        "ages = [entry['Age'] for entry in data]\n",
        "\n",
        "# Scatter plot\n",
        "plt.figure(figsize=(15, 5))\n",
        "\n",
        "plt.subplot(1, 3, 1)\n",
        "plt.scatter(heights, weights, c='blue', alpha=0.5)\n",
        "plt.title('Height vs Weight')\n",
        "plt.xlabel('Height (cm)')\n",
        "plt.ylabel('Weight (kg)')\n",
        "plt.grid(True)\n",
        "\n",
        "# Bar chart\n",
        "plt.subplot(1, 3, 2)\n",
        "age_counts = {age: ages.count(age) for age in ages}\n",
        "plt.bar(age_counts.keys(), age_counts.values(), color='green')\n",
        "plt.title('Age Distribution')\n",
        "plt.xlabel('Age')\n",
        "plt.ylabel('Frequency')\n",
        "plt.xticks(list(age_counts.keys()))\n",
        "plt.grid(axis='y')\n",
        "\n",
        "# Histogram\n",
        "plt.subplot(1, 3, 3)\n",
        "plt.hist(heights, bins=10, color='orange', edgecolor='black')\n",
        "plt.title('Height Distribution')\n",
        "plt.xlabel('Height (cm)')\n",
        "plt.ylabel('Frequency')\n",
        "plt.grid(axis='y')\n",
        "\n",
        "plt.tight_layout()\n",
        "plt.show()"
      ],
      "metadata": {
        "colab": {
          "base_uri": "https://localhost:8080/",
          "height": 299
        },
        "id": "0S61FtpkeTao",
        "outputId": "9419bf03-83df-4b6f-de94-c5edd2fa855f"
      },
      "execution_count": null,
      "outputs": [
        {
          "output_type": "display_data",
          "data": {
            "text/plain": [
              "<Figure size 1500x500 with 3 Axes>"
            ],
            "image/png": "[encoded data removed]"
          },
          "metadata": {}
        }
      ]
    }
  ]
}